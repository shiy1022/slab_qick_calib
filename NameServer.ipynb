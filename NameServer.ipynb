{
 "cells": [
  {
   "cell_type": "code",
   "execution_count": null,
   "metadata": {},
   "outputs": [
    {
     "name": "stdout",
     "output_type": "stream",
     "text": [
      "Broadcast server running on 0.0.0.0:9091\n",
      "NS running on 10.108.30.23:9090 (10.108.30.23)\n",
      "Warning: HMAC key not set. Anyone can connect to this server!\n",
      "URI = PYRO:Pyro.NameServer@10.108.30.23:9090\n"
     ]
    }
   ],
   "source": [
    "import Pyro4\n",
    "import Pyro4.naming\n",
    "\n",
    "def start_nameserver(ns_port=8888):\n",
    "    \"\"\"Starts a Pyro4 nameserver that listens on all network interfaces.\n",
    "\n",
    "    Parameters\n",
    "    ----------\n",
    "    ns_port : int\n",
    "        the port number for the nameserver to listen on\n",
    "\n",
    "    Returns\n",
    "    -------\n",
    "    \"\"\"\n",
    "    Pyro4.config.SERIALIZERS_ACCEPTED = set(['pickle'])\n",
    "    Pyro4.config.PICKLE_PROTOCOL_VERSION=4\n",
    "    Pyro4.naming.startNSloop(host='10.108.30.23', port=ns_port) # campus \n",
    "    #Pyro4.naming.startNSloop(host='192.168.137.1', port=ns_port) # slac\n",
    "\n",
    "    \n",
    "    \n",
    "start_nameserver(ns_port=9090)"
   ]
  },
  {
   "cell_type": "code",
   "execution_count": null,
   "metadata": {},
   "outputs": [],
   "source": []
  }
 ],
 "metadata": {
  "kernelspec": {
   "display_name": "base",
   "language": "python",
   "name": "python3"
  },
  "language_info": {
   "codemirror_mode": {
    "name": "ipython",
    "version": 3
   },
   "file_extension": ".py",
   "mimetype": "text/x-python",
   "name": "python",
   "nbconvert_exporter": "python",
   "pygments_lexer": "ipython3",
   "version": "3.12.7"
  }
 },
 "nbformat": 4,
 "nbformat_minor": 2
}
