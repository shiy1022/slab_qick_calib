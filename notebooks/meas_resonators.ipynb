{
 "cells": [
  {
   "cell_type": "markdown",
   "metadata": {},
   "source": [
    "# Initialize"
   ]
  },
  {
   "cell_type": "code",
   "execution_count": null,
   "metadata": {},
   "outputs": [],
   "source": [
    "import os\n",
    "import numpy as np\n",
    "import matplotlib.pyplot as plt\n",
    "import seaborn as sns\n",
    "from qick import QickConfig\n",
    "import sys \n",
    "sys.path.append('../')\n",
    "from slab_qick_calib.exp_handling.instrumentmanager import InstrumentManager\n",
    "#import slab_qick_calib.experiments as meas\n",
    "import slab_qick_calib.config as config\n",
    "\n",
    "%load_ext autoreload\n",
    "%autoreload 2\n",
    "\n",
    "# Configuration\n",
    "ip = '10.108.30.23'\n",
    "\n",
    "expt_path = 'C:\\\\_Data\\\\Terracat\\\\2025-04-28\\\\'\n",
    "cfg_file='Terracat1.yml'\n",
    "\n",
    "# Set seaborn color palette\n",
    "colors = [\"#0869c8\", \"#b51d14\", '#ddb310', '#658b38', '#7e1e9c', '#75bbfd', '#cacaca']\n",
    "sns.set_palette(sns.color_palette(colors))\n",
    "\n",
    "# Figure parameters\n",
    "plt.rcParams['figure.figsize'] = [8, 4]\n",
    "plt.rcParams.update({'font.size': 13})\n",
    "\n",
    "print('Data will be stored in', expt_path)\n",
    "\n",
    "# Results config file\n",
    "cfg_path = os.path.join(os.getcwd(), 'configs', cfg_file)\n",
    "auto_cfg = config.load(cfg_path)\n",
    "\n",
    "# Connect to instruments\n",
    "im = InstrumentManager(ns_address=ip)\n",
    "print(im)\n",
    "soc = QickConfig(im[auto_cfg['aliases']['soc']].get_cfg())\n",
    "print(soc)\n",
    "\n",
    "cfg_dict = {'soc': soc, 'expt_path': expt_path, 'cfg_file': cfg_path, 'im': im}\n"
   ]
  },
  {
   "cell_type": "markdown",
   "metadata": {},
   "source": [
    "## New directory"
   ]
  },
  {
   "cell_type": "code",
   "execution_count": null,
   "metadata": {},
   "outputs": [],
   "source": [
    "import os\n",
    "import slab_qick_calib.config as config\n",
    "new_config = False\n",
    "new_folder = False\n",
    "expt_path = 'C:\\\\_Data\\\\Terracat\\\\2025-04-28\\\\'\n",
    "cfg_file='Terracat1.yml'\n",
    "\n",
    "if new_config or new_folder:\n",
    "\n",
    "    if new_config:\n",
    "        config.init_config( os.getcwd() + '\\\\configs\\\\' + cfg_file, 8, type='full', aliases='bf1_soc', t1=30)\n",
    "\n",
    "    if not os.path.exists(expt_path):\n",
    "        os.makedirs(expt_path)\n",
    "        os.mkdir(expt_path + 'images')\n",
    "        os.mkdir(expt_path + 'images\\\\summary')"
   ]
  },
  {
   "cell_type": "markdown",
   "metadata": {},
   "source": [
    "## TOF"
   ]
  },
  {
   "cell_type": "code",
   "execution_count": null,
   "metadata": {},
   "outputs": [],
   "source": [
    "qubit_list = np.arange(3)\n",
    "qubit_list = [0]\n",
    "for qi in qubit_list:  \n",
    "        tof=meas.ToFCalibrationExperiment(cfg_dict=cfg_dict, qi=qi, params={'frequency':7000})\n",
    "        #tof=meas.ToFCalibrationExperiment(cfg_dict=cfg_dict, qi=qi,params={'readout_length':13})#,params={'frequency':fi})\n",
    "        # use this to set trig_offset in config file"
   ]
  },
  {
   "cell_type": "code",
   "execution_count": null,
   "metadata": {},
   "outputs": [],
   "source": [
    "tof=meas.ToF2D(cfg_dict=cfg_dict, qi=qi)\n"
   ]
  },
  {
   "cell_type": "code",
   "execution_count": null,
   "metadata": {},
   "outputs": [],
   "source": [
    "tof.data['i'].shape"
   ]
  },
  {
   "cell_type": "markdown",
   "metadata": {},
   "source": [
    "## Coarse"
   ]
  },
  {
   "cell_type": "code",
   "execution_count": null,
   "metadata": {},
   "outputs": [],
   "source": [
    "#rspec = cfg.make_rspec_coarse(soc, expt_path, cfg_path, i, im=im, start=6000, span=800, reps=2000, npts=5000)\n",
    "qi=0\n",
    "rspecc = meas.ResSpec(cfg_dict, qi=qi, style='coarse', params={'start':6000, 'span':2100, 'rounds':1, 'reps':15, 'gain':1, 'expts':100000,'length':100})\n",
    "res_values = rspecc.data['coarse_peaks']"
   ]
  },
  {
   "cell_type": "code",
   "execution_count": null,
   "metadata": {},
   "outputs": [],
   "source": [
    "rspecc.analyze(peaks=True, debug=True, fit=False, prom=0.05)\n",
    "rspecc.display(peaks=True, fit=False)\n",
    "res_values = rspecc.data['coarse_peaks']"
   ]
  },
  {
   "cell_type": "code",
   "execution_count": null,
   "metadata": {},
   "outputs": [],
   "source": [
    "res_values = np.delete(res_values,1)"
   ]
  },
  {
   "cell_type": "markdown",
   "metadata": {},
   "source": [
    "## Res fine"
   ]
  },
  {
   "cell_type": "code",
   "execution_count": null,
   "metadata": {},
   "outputs": [],
   "source": [
    "update=False\n",
    "\n",
    "qubit_list = np.arange(8)\n",
    "qubit_list=[5]\n",
    "for qi in qubit_list:    \n",
    "    rspec = meas.ResSpec(cfg_dict, qi=qi, params={'span':0.1, 'center':res_values[qi], 'gain':1,'reps':4,'length':500}) # Use this to sweep through the res_values list\n",
    "    #rspec = meas.ResSpec(cfg_dict, qi=qi, params={'span':'kappa','reps':50,'gain':1,'length':500})\n",
    "    #rspec = meas.ResSpec(cfg_dict, qi=qi, params={'span':0.1,'long_pulse':True,'gain':1,'length':500})\n",
    "    if update: rspec.update(cfg_dict['cfg_file'])"
   ]
  },
  {
   "cell_type": "code",
   "execution_count": null,
   "metadata": {},
   "outputs": [],
   "source": [
    "plt.figure()\n",
    "fix_phase = np.unwrap(rspec.data['phases']-rspec.data['phases'][0])-fit_params[0]*rspec.data['xpts']\n",
    "amps = rspec.data['amps']\n",
    "x = amps*np.cos(fix_phase)\n",
    "y = amps*np.sin(fix_phase)\n",
    "plt.plot(x, y, 'o', label='raw data')"
   ]
  },
  {
   "cell_type": "markdown",
   "metadata": {},
   "source": [
    "## Power sweep"
   ]
  },
  {
   "cell_type": "code",
   "execution_count": null,
   "metadata": {},
   "outputs": [],
   "source": [
    "qi=4\n",
    "qi_list=[]\n",
    "gains = [1, 0.5, 0.25, 0.125, 0.0625, 0.03125, 0.015625, 0.0078125, 0.00390625, 0.001953125]\n",
    "#gains = [0.25, 0.125, 0.0625, 0.03125, 0.015625, 0.0078125, 0.00390625, 0.001953125]\n",
    "d=[]\n",
    "for i, g in enumerate(gains):\n",
    "    reps = int(np.ceil(4*(2)**i))\n",
    "    print(reps)\n",
    "    rspec = meas.ResSpec(cfg_dict, qi=qi, params={'span':'kappa','long_pulse':True,'reps':reps,'gain':g,'expts':100})\n",
    "    rspec.update(cfg_dict['cfg_file'])\n",
    "    d.append(rspec.data['amps'])\n",
    "    qi_list.append(rspec.data['fit'][1])\n",
    "\n",
    "plt.figure()\n",
    "plt.plot(qi_list,'-o')\n",
    "plt.title(f'Resonator {qi}')"
   ]
  },
  {
   "cell_type": "code",
   "execution_count": null,
   "metadata": {},
   "outputs": [],
   "source": [
    "plt.figure()\n",
    "\n",
    "for i, dd in enumerate(d): \n",
    "    plt.semilogy(dd*2**i)"
   ]
  },
  {
   "cell_type": "code",
   "execution_count": null,
   "metadata": {},
   "outputs": [],
   "source": [
    "plt.figure()\n",
    "plt.semilogy(np.array(qi_list[1:-1])*10/1000,'-o')\n",
    "plt.title(f'Resonator {qi}')"
   ]
  },
  {
   "cell_type": "markdown",
   "metadata": {},
   "source": [
    "# Check that reps don't change anygthing "
   ]
  },
  {
   "cell_type": "code",
   "execution_count": null,
   "metadata": {},
   "outputs": [],
   "source": [
    "qi=0\n",
    "qi_list=[]\n",
    "reps = [1,2,5,10,20,50]\n",
    "for i, r in enumerate(reps):\n",
    "\n",
    "    rspec = meas.ResSpec(cfg_dict, qi=qi, params={'span':'kappa','long_pulse':True,'reps':r,'gain':1,'expts':100})\n",
    "    rspec.update(cfg_dict['cfg_file'])\n",
    "    qi_list.append(rspec.data['fit'][1])\n",
    "\n",
    "plt.figure()\n",
    "plt.plot(qi_list,'-o')\n",
    "plt.title(f'Resonator {qi}')"
   ]
  },
  {
   "cell_type": "code",
   "execution_count": null,
   "metadata": {},
   "outputs": [],
   "source": [
    "qi=0\n",
    "qi_list=[]\n",
    "length = [50,100,200,500,1000,2000,5000,10000]\n",
    "reps = [100,50,20,10,5,2,1,1]\n",
    "for i, r in enumerate(reps):\n",
    "\n",
    "    rspec = meas.ResSpec(cfg_dict, qi=qi, params={'span':'kappa','long_pulse':True,'reps':r,'gain':1,'expts':100,'length':length[i]})\n",
    "    rspec.update(cfg_dict['cfg_file'])\n",
    "    qi_list.append(rspec.data['fit'][1])\n",
    "\n",
    "plt.figure()\n",
    "plt.plot(qi_list,'-o')\n",
    "plt.title(f'Resonator {qi}')"
   ]
  },
  {
   "cell_type": "markdown",
   "metadata": {},
   "source": [
    "# Get data for the phase change"
   ]
  },
  {
   "cell_type": "code",
   "execution_count": null,
   "metadata": {},
   "outputs": [],
   "source": [
    "\n",
    "rspec = meas.ResSpec(cfg_dict, qi=qi, params={'span':1,'long_pulse':True,'reps':1,'gain':1,'expts':10000,'center':6033})\n"
   ]
  },
  {
   "cell_type": "code",
   "execution_count": null,
   "metadata": {},
   "outputs": [],
   "source": [
    "plt.figure()\n",
    "phases = np.unwrap(rspec.data['phases'][300:])\n",
    "x = rspec.data['xpts'][300:]\n",
    "fit_params = np.polyfit(x, phases, 1)\n",
    "fit_line = np.polyval(fit_params, x)\n",
    "\n",
    "plt.plot(phases, label='Unwrapped Phases')\n",
    "plt.plot(fit_line, label='Linear Fit', linestyle='--')\n",
    "plt.legend()\n",
    "\n",
    "fit_params[0]\n",
    "#-1130.8379223790125\n"
   ]
  }
 ],
 "metadata": {
  "kernelspec": {
   "display_name": "base",
   "language": "python",
   "name": "python3"
  },
  "language_info": {
   "codemirror_mode": {
    "name": "ipython",
    "version": 3
   },
   "file_extension": ".py",
   "mimetype": "text/x-python",
   "name": "python",
   "nbconvert_exporter": "python",
   "pygments_lexer": "ipython3",
   "version": "3.12.7"
  }
 },
 "nbformat": 4,
 "nbformat_minor": 2
}
