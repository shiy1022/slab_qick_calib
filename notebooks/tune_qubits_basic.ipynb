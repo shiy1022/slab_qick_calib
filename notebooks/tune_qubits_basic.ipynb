{
 "cells": [
  {
   "cell_type": "markdown",
   "metadata": {},
   "source": [
    "# Intro\n",
    "\n",
    "Check the readme files in the folder to learn how to run scans and use defaults vs specify parameters"
   ]
  },
  {
   "cell_type": "markdown",
   "metadata": {},
   "source": [
    "# Initialize"
   ]
  },
  {
   "cell_type": "code",
   "execution_count": null,
   "metadata": {},
   "outputs": [],
   "source": [
    "cfg_file='cfg_name.yml'\n",
    "expt_path = 'C:\\\\_Data\\\\sample_name\\\\'\n",
    "\n",
    "ip = '192.168.137.1'\n",
    "max_t1 = 150"
   ]
  },
  {
   "cell_type": "markdown",
   "metadata": {},
   "source": [
    "## Imports"
   ]
  },
  {
   "cell_type": "code",
   "execution_count": null,
   "metadata": {},
   "outputs": [],
   "source": [
    "import numpy as np\n",
    "import matplotlib.pyplot as plt\n",
    "import seaborn as sns\n",
    "from tqdm.notebook import tqdm\n",
    "\n",
    "from qick import QickConfig\n",
    "\n",
    "from slab_qick_calib.exp_handling.instrumentmanager import InstrumentManager\n",
    "import slab_qick_calib.experiments as meas\n",
    "from slab_qick_calib.calib import qubit_tuning, measure_func\n",
    "from slab_qick_calib.helpers import handy\n",
    "from slab_qick_calib.calib.time_tracking import time_tracking\n",
    "\n",
    "%load_ext autoreload\n",
    "%autoreload 2\n",
    "\n",
    "# Set color palette and font size\n",
    "handy.config_figs()"
   ]
  },
  {
   "cell_type": "markdown",
   "metadata": {},
   "source": [
    "## Set up new config \n",
    "Set to variables to True when setting up a new experiment config file. \n",
    "\n",
    "Note: make sure you set your ADC/DAC channels correctly. This code does not automatically fill in the ADC/DAC into your configuration file, so you should check yourself to make sure these values are correct. \n",
    "\n",
    "There are several elements that you may want to customize based on your readout parameters and coherence times. Check readme file config_manual.md"
   ]
  },
  {
   "cell_type": "code",
   "execution_count": null,
   "metadata": {},
   "outputs": [],
   "source": [
    "# Set to false if you aren't creating a new one\n",
    "new_config = False\n",
    "new_folder = False\n",
    "\n",
    "nqubits = 1\n",
    "rfsoc_alias = 'Qick233'\n",
    "t1_guess = 30 \n",
    "\n",
    "import os\n",
    "from slab_qick_calib.helpers import config\n",
    "\n",
    "configs_dir = os.path.join(os.getcwd(),'../', 'configs')\n",
    "\n",
    "cfg_file_path = os.path.join(configs_dir, cfg_file)\n",
    "images_dir = os.path.join(expt_path, 'images')\n",
    "summary_dir = os.path.join(images_dir, 'summary')\n",
    "\n",
    "if new_config or new_folder:\n",
    "    if new_config:\n",
    "        config.init_config(cfg_file_path, nqubits, type='full', aliases=rfsoc_alias, t1=t1_guess)\n",
    "\n",
    "    if not os.path.exists(expt_path):\n",
    "        os.makedirs(expt_path)\n",
    "        os.mkdir(images_dir)\n",
    "        os.mkdir(summary_dir)\n",
    "\n",
    "print('Data will be stored in', expt_path)"
   ]
  },
  {
   "cell_type": "markdown",
   "metadata": {},
   "source": [
    "## Connect to RFSoC\n",
    "Before running first cell, make sure a nameserver is running on the network, the Qick board is connected to it, and the ip address listed below matches that of the nameserver. \n",
    "\n",
    "You just need to run the first cell, then should be able to run any other cell in whatever order. \n",
    "\n",
    "If you need to restart the RFSoC, you should reconnect it to the nameserver and rerun this. "
   ]
  },
  {
   "cell_type": "code",
   "execution_count": null,
   "metadata": {},
   "outputs": [],
   "source": [
    "# Results config file\n",
    "cfg_path = os.path.join(os.getcwd(),'..', 'configs', cfg_file)\n",
    "auto_cfg = config.load(cfg_path)\n",
    "\n",
    "# Connect to instruments\n",
    "im = InstrumentManager(ns_address=ip)\n",
    "print(im)\n",
    "soc = QickConfig(im[auto_cfg['aliases']['soc']].get_cfg())\n",
    "print(soc)\n",
    "\n",
    "cfg_dict = {'soc': soc, 'expt_path': expt_path, 'cfg_file': cfg_path, 'im': im}"
   ]
  },
  {
   "cell_type": "markdown",
   "metadata": {},
   "source": [
    "## How to update config (you can also just edit yml directly)"
   ]
  },
  {
   "cell_type": "code",
   "execution_count": null,
   "metadata": {},
   "outputs": [],
   "source": [
    "# #                                          param   value qubit #\n",
    "# auto_cfg = config.update_readout(cfg_path, 'lamb', 5, qi)\n",
    "# auto_cfg = config.update_qubit(cfg_path, 'f_ge', 5700, qi)\n",
    "\n",
    "# # For multiple levels of nesting: \n",
    "# auto_cfg = config.update_qubit(cfg_path, ('pulses','pi_ge','gain'), 0.2, qi)"
   ]
  },
  {
   "cell_type": "markdown",
   "metadata": {},
   "source": [
    "## Print scan params"
   ]
  },
  {
   "cell_type": "code",
   "execution_count": null,
   "metadata": {},
   "outputs": [],
   "source": [
    "t1 = meas.T1Experiment(cfg_dict, qi=0, print=True)"
   ]
  },
  {
   "cell_type": "markdown",
   "metadata": {},
   "source": [
    "In general, all scans will be interacted with either by running default, or giving arguments from params dict. \n",
    "You can run scans on list of different qubits or just one by adding first couple lines of each cell. \n",
    "Flag of update is used to decide if to set new config vals based on output of scan (if the fit looks good)"
   ]
  },
  {
   "cell_type": "markdown",
   "metadata": {},
   "source": [
    "## Check QICK issues"
   ]
  },
  {
   "cell_type": "markdown",
   "metadata": {},
   "source": [
    "### Check mirror frequencies on qubit"
   ]
  },
  {
   "cell_type": "code",
   "execution_count": null,
   "metadata": {},
   "outputs": [],
   "source": [
    "from slab_qick_calib.helpers import qick_check\n",
    "qick_check.check_freqs(0, cfg_dict)"
   ]
  },
  {
   "cell_type": "markdown",
   "metadata": {},
   "source": [
    "### Check mirror frequencies from resonators"
   ]
  },
  {
   "cell_type": "code",
   "execution_count": null,
   "metadata": {},
   "outputs": [],
   "source": [
    "from slab_qick_calib.helpers import qick_check\n",
    "qick_check.check_resonances(cfg_dict)"
   ]
  },
  {
   "cell_type": "markdown",
   "metadata": {},
   "source": [
    "### Check sampling rates and minimum point spacing"
   ]
  },
  {
   "cell_type": "code",
   "execution_count": null,
   "metadata": {},
   "outputs": [],
   "source": [
    "\n",
    "fnyq = cfg_dict['soc']._get_ch_cfg(ro_ch=0)['f_dds']/2\n",
    "clock_tick = 1e3*cfg_dict['soc'].cycles2us(1)\n",
    "print(f'ADC Nyquist frequency is {fnyq} MHz')\n",
    "print(f'1 clock tick is {clock_tick} ns')"
   ]
  },
  {
   "cell_type": "code",
   "execution_count": null,
   "metadata": {},
   "outputs": [],
   "source": [
    "from slab_qick_calib.helpers import qick_check\n",
    "\n",
    "# Assuming 'soc' is your QickSoc object\n",
    "dac_channel = qick_check.get_ch(soc, '0_228', type='dac')\n",
    "print(f'DAC channel for 0_228 is: {dac_channel}')\n",
    "from slab_qick_calib.helpers.qick_check import get_ch, print_dac_channels, print_adc_channels\n",
    "\n",
    "print_dac_channels(cfg_dict['soc'])"
   ]
  },
  {
   "cell_type": "markdown",
   "metadata": {},
   "source": [
    "### Make sure you're not near the nyquist frequency of the ADC"
   ]
  },
  {
   "cell_type": "code",
   "execution_count": null,
   "metadata": {},
   "outputs": [],
   "source": [
    "from slab_qick_calib.helpers import qick_check\n",
    "qick_check.check_adc(cfg_dict)"
   ]
  },
  {
   "cell_type": "markdown",
   "metadata": {},
   "source": [
    "# Time of Flight (TOF)\n",
    "\n",
    "TOF measures the time it takes for the signal to run through the wires. It will give us the time in clock ticks that we should wait to make a measurements \n",
    "\n",
    " Use this to set trig_offset in config file"
   ]
  },
  {
   "cell_type": "code",
   "execution_count": null,
   "metadata": {},
   "outputs": [],
   "source": [
    "qubit_list = np.arange(3)\n",
    "qubit_list = [0]\n",
    "for qi in qubit_list:  \n",
    "        tof=meas.ToFCalibrationExperiment(cfg_dict=cfg_dict, qi=qi)\n",
    "\n",
    "        # Set frequency of choice and readout length (up to 13 us for standard ZCU216 firmware, readout)\n",
    "        #tof=meas.ToFCalibrationExperiment(cfg_dict=cfg_dict, qi=qi,params={'readout_length':13})#,params={'frequency':fi})"
   ]
  },
  {
   "cell_type": "markdown",
   "metadata": {},
   "source": [
    "## Set trig_offset to point where signal has appeared, usually around 300-500 ns"
   ]
  },
  {
   "cell_type": "code",
   "execution_count": null,
   "metadata": {},
   "outputs": [],
   "source": [
    "qubit_list=np.arange(3)\n",
    "for qi in qubit_list: \n",
    "    auto_cfg = config.update_readout(cfg_path, 'trig_offset', 0.65, qi)"
   ]
  },
  {
   "cell_type": "markdown",
   "metadata": {},
   "source": [
    "## Collect many time traces of TOF data (for examining measurement data)\n",
    "\n",
    "check_e first prepares e state"
   ]
  },
  {
   "cell_type": "code",
   "execution_count": null,
   "metadata": {},
   "outputs": [],
   "source": [
    "tof2d = meas.ToF2D(cfg_dict=cfg_dict, qi=qi, params={'expts_count':10000, 'readout_length': 13})\n",
    "tof2d = meas.ToF2D(cfg_dict=cfg_dict, qi=qi, params={'expts_count':10000, 'readout_length': 13,'check_e':True})"
   ]
  },
  {
   "cell_type": "markdown",
   "metadata": {},
   "source": [
    "# Resonator Spectroscopy \n",
    "\n",
    "Run resonator spectroscopy for all resonators by choosing a large frequency scan to look over. The scan will then find the different resonators and fill in the config file with their respective frequencies. In the autocalibration, there will be a finer sweep of each resonator to more accurately find its frequency. The frequencies are saved in <code>auto_cfg.device.readout.frequency</code>"
   ]
  },
  {
   "cell_type": "markdown",
   "metadata": {},
   "source": [
    "## Coarse \n",
    "\n",
    "This will perform peak finding\n",
    "Use params to specify frequency range, averaging, gain, expts. \n",
    "If gain is too high, you may be in punch out region, where resonators disappear, or above it "
   ]
  },
  {
   "cell_type": "code",
   "execution_count": null,
   "metadata": {},
   "outputs": [],
   "source": [
    "qi=0 # We only run this once for all qubits on a single feedline, this is a dummy value to make the scan work \n",
    "params={'start':6000, 'span':2000, 'reps':1000, 'gain':0.01, 'expts':6000}\n",
    "rspecc = meas.ResSpec(cfg_dict, qi=qi, style='coarse', progress=True, params=params)\n",
    "res_values = rspecc.data['coarse_peaks']"
   ]
  },
  {
   "cell_type": "markdown",
   "metadata": {},
   "source": [
    "Change prom (prominence value) to adjust how many peaks you find"
   ]
  },
  {
   "cell_type": "code",
   "execution_count": null,
   "metadata": {},
   "outputs": [],
   "source": [
    "rspecc.analyze(peaks=True, debug=True, fit=False, prom=0.12)\n",
    "rspecc.display(peaks=True, fit=False)\n",
    "res_values = rspecc.data['coarse_peaks']"
   ]
  },
  {
   "cell_type": "code",
   "execution_count": null,
   "metadata": {},
   "outputs": [],
   "source": [
    "res_values"
   ]
  },
  {
   "cell_type": "markdown",
   "metadata": {},
   "source": [
    "Can delete values from res_values if they don't seem to be real res_values. "
   ]
  },
  {
   "cell_type": "code",
   "execution_count": null,
   "metadata": {},
   "outputs": [],
   "source": [
    "res_values = np.delete(res_values, 8)"
   ]
  },
  {
   "cell_type": "markdown",
   "metadata": {},
   "source": [
    "## Fine\n",
    "\n",
    "This will fit the resonance amplitude\n",
    "\n",
    "Can run scan with default options, or specify your own, by commenting out different lines and editing paramters. "
   ]
  },
  {
   "cell_type": "markdown",
   "metadata": {},
   "source": [
    "### First time after running coarse scan, using res_values list\n",
    "Assumes you have the same number of res_values as qubits. \n",
    "First time you run scan, plot will appear weird first because it plots the resonator frequency in the config on the same plot. Just run again"
   ]
  },
  {
   "cell_type": "code",
   "execution_count": null,
   "metadata": {},
   "outputs": [],
   "source": [
    "update=True\n",
    "\n",
    "num_peaks = len(res_values)\n",
    "\n",
    "for qi in len(res_values):    \n",
    "    # Used for initial finding of resonance \n",
    "    rspec = meas.ResSpec(cfg_dict, qi=qi, params={'span':5, 'center':res_values[qi]})\n",
    "\n",
    "    if update: rspec.update(cfg_dict['cfg_file'])"
   ]
  },
  {
   "cell_type": "markdown",
   "metadata": {},
   "source": [
    "### Fine resonator scan\n",
    "\n",
    "Once the correct frequencies are saved to your config file. "
   ]
  },
  {
   "cell_type": "code",
   "execution_count": null,
   "metadata": {},
   "outputs": [],
   "source": [
    "update=True # Set to true if you want to update the config file with the new resonance values\n",
    "\n",
    "# comment out one of these \n",
    "qubit_list = np.arange(3)\n",
    "qubit_list=[0]\n",
    "\n",
    "for qi in qubit_list:    \n",
    "    # Manually set the span and gain \n",
    "    #rspec = meas.ResSpec(cfg_dict, qi=qi, params={'span':100, 'gain':0.01})\n",
    "\n",
    "    # Fully automated, using previous fit to kappa to set span\n",
    "    rspec = meas.ResSpec(cfg_dict, qi=qi, params={'span':'kappa'})\n",
    "    if update: rspec.update(cfg_dict['cfg_file'])"
   ]
  },
  {
   "cell_type": "markdown",
   "metadata": {},
   "source": [
    "### Print out scan params"
   ]
  },
  {
   "cell_type": "code",
   "execution_count": null,
   "metadata": {},
   "outputs": [],
   "source": [
    "rspec.print()"
   ]
  },
  {
   "cell_type": "markdown",
   "metadata": {},
   "source": [
    "## Resonator Power Spectroscopy \n",
    "\n",
    "Find a good value for gain to park your readout at until you run readout optimization. From the 2D sweep that is produced, choose a value for gain that is right before the resonator punches out. Want to choose a high value for gain because we want to be in the shot noise limited regime which increases our signal:noise ratio. "
   ]
  },
  {
   "cell_type": "code",
   "execution_count": null,
   "metadata": {},
   "outputs": [],
   "source": [
    "update=True\n",
    "\n",
    "qubit_list = np.arange(3)\n",
    "qubit_list=[0]\n",
    "\n",
    "d=[]\n",
    "for qi in qubit_list:\n",
    "    #rpowspec=meas.ResSpecPower(cfg_dict, qi=qi)\n",
    "    params={'rng':300,'max_gain':1, 'span':18,\"f_off\":4,'expts_gain':30}\n",
    "    rpowspec=meas.ResSpecPower(cfg_dict, qi=qi, params=params)\n",
    "    d.append(rpowspec)\n",
    "    if update:\n",
    "        auto_cfg = config.update_readout(cfg_path, 'lamb', rpowspec.data['lamb_shift'], qi)"
   ]
  },
  {
   "cell_type": "markdown",
   "metadata": {},
   "source": [
    "### Example of plotting 2D scans for a bunch of qubits together\n",
    "Can also use for varying a parameter on one qubit and plotting the results together"
   ]
  },
  {
   "cell_type": "code",
   "execution_count": null,
   "metadata": {},
   "outputs": [],
   "source": [
    "auto_cfg = config.load(cfg_path)\n",
    "horz_line = auto_cfg.device.readout.gain\n",
    "handy.plot_many(d, title='Resonator Power', save_path=cfg_dict['expt_path'], chan='amps', yax='log', norm=True, horz_line=horz_line)"
   ]
  },
  {
   "cell_type": "markdown",
   "metadata": {},
   "source": [
    "### Save gain values "
   ]
  },
  {
   "cell_type": "code",
   "execution_count": null,
   "metadata": {},
   "outputs": [],
   "source": [
    "# assign the resonator gain to the results config file\n",
    "gain_values = [0.1,0.01]\n",
    "for i, qi in enumerate(qubit_list):\n",
    "    auto_cfg = config.update_readout(cfg_file, 'gain', gain_values[i], qi)"
   ]
  },
  {
   "cell_type": "markdown",
   "metadata": {},
   "source": [
    "# Qubit Spectroscopy"
   ]
  },
  {
   "cell_type": "markdown",
   "metadata": {},
   "source": [
    "## Find qubits\n",
    "More automated, zooms out and adds power if no peak visible. Best to use if you're feeling confident, otherwise use more manual stuff in next cell. "
   ]
  },
  {
   "cell_type": "code",
   "execution_count": null,
   "metadata": {},
   "outputs": [],
   "source": [
    "qubit_list = np.arange(3)\n",
    "qubit_list= [0]\n",
    "\n",
    "bad_qubits=[]\n",
    "for qi in qubit_list:\n",
    "    status, ntries = qubit_tuning.find_spec(qi, cfg_dict, start='coarse')\n",
    "    if not status:\n",
    "        bad_qubits.append(qi)"
   ]
  },
  {
   "cell_type": "markdown",
   "metadata": {},
   "source": [
    "## General search, specify width \n",
    "\n",
    "style options: fine, medium, coarse, huge (will change scan width and power)\n",
    "\n",
    "Uses config values of low_gain (gain to use for finest scan), which sets overall gain for device and spec_gain (set indepedently for each qubit) to decide how much power to apply\n",
    "\n",
    "You may also just want to do this fully manually by specifiying params. "
   ]
  },
  {
   "cell_type": "code",
   "execution_count": null,
   "metadata": {},
   "outputs": [],
   "source": [
    "update=True\n",
    "\n",
    "#qubit_list = np.arange(3)\n",
    "qubit_list = [0]\n",
    "\n",
    "for qi in qubit_list: \n",
    "    # Default params, just specify style \n",
    "    #qspec=meas.QubitSpec(cfg_dict, qi=qi, style='medium')\n",
    "\n",
    "    # Different examples of params you might give; frequency can be specified as start and span or if no start given, center is f_ge from config\n",
    "    #qspec=meas.QubitSpec(cfg_dict, qi=qi, style='fine', params={'length':3})\n",
    "    params={'span':3,'expts':100,'gain':0.1,'sep_readout':True, 'length':3, 'readout_length':10, 'reps':10000}\n",
    "    qspec=meas.QubitSpec(cfg_dict, qi=qi, style='coarse', params=params)\n",
    "    if update and qspec.status: \n",
    "        auto_cfg = config.update_qubit(cfg_path, 'f_ge', qspec.data[\"best_fit\"][2], qi)\n",
    "        auto_cfg = config.update_qubit(cfg_path, 'kappa',2*qspec.data[\"best_fit\"][3], qi)\n",
    "    elif update:\n",
    "        print(f'Bad qubit! qi={qi}')"
   ]
  },
  {
   "cell_type": "markdown",
   "metadata": {},
   "source": [
    "## Stark (still getting it working)"
   ]
  },
  {
   "cell_type": "code",
   "execution_count": null,
   "metadata": {},
   "outputs": [],
   "source": [
    "qi=2\n",
    "qspec=meas.StarkSpec(cfg_dict, qi=qi, style='medium', params={'df_stark':0, 'max_stark_gain':0.2, 'df':-55,'span':130, 'stark_expts':50,'stark_rng':50})"
   ]
  },
  {
   "cell_type": "markdown",
   "metadata": {},
   "source": [
    "## Power sweep"
   ]
  },
  {
   "cell_type": "code",
   "execution_count": null,
   "metadata": {},
   "outputs": [],
   "source": [
    "qubit_list=[0]\n",
    "\n",
    "for qi in qubit_list:\n",
    "    params={'start':610,'span':20,'expts':200, 'sep_readout':False, 'length':3}\n",
    "    qspec_pow = meas.QubitSpecPower(cfg_dict, qi=qi, style='', params=params)\n",
    "    #qspec_pow = meas.QubitSpecPower(cfg_dict, qi=qi, style='', params={'start':3700,'span':600,'reps':1500,'expts':1200, 'max_gain':0.4, 'length':1,'sep_readout':True})"
   ]
  },
  {
   "cell_type": "markdown",
   "metadata": {},
   "source": [
    "### Sweep pulse length \n",
    "Useful when t1 low\n",
    "\n",
    "sep_readout = False measures at same time as probe pulse (default is True)"
   ]
  },
  {
   "cell_type": "code",
   "execution_count": null,
   "metadata": {},
   "outputs": [],
   "source": [
    "length = [1,3,5,10]\n",
    "for l in length:\n",
    "    for qi in qubit_list:\n",
    "        params={'start':3700,'span':600,'reps':1500,'expts':1200, 'max_gain':0.4, 'length':1,'sep_readout':True}\n",
    "        params={'start':5320,'span':100,'reps':1000,'expts':200,'length':l}\n",
    "        qspec_pow = meas.QubitSpecPower(cfg_dict, qi=qi, style='', params=params)\n",
    "        #qspec_pow = meas.QubitSpecPower(cfg_dict, qi=qi, style='', params=params)"
   ]
  },
  {
   "cell_type": "markdown",
   "metadata": {},
   "source": [
    "### Narrow scan"
   ]
  },
  {
   "cell_type": "code",
   "execution_count": null,
   "metadata": {},
   "outputs": [],
   "source": [
    "qq=[]\n",
    "\n",
    "# qubit_list = np.arange(3)\n",
    "qubit_list=[2]\n",
    "for qi in qubit_list:\n",
    "    qspec_pow = meas.QubitSpecPower(cfg_dict, qi=qi, style='narrow')\n",
    "    \n",
    "    # Nice for pretty pics once you have T1 measurement. \n",
    "    #qspec_pow = meas.QubitSpecPower(cfg_dict, qi=qi, style='fine', params={'length':'t1','max_gain':1})\n",
    "    qq.append(qspec_pow)\n",
    "\n",
    "# When measuring many qubits, can do a bunch of color plots this way\n",
    "#handy.plot_many(qq, title='Qubit Power Amps 0.6-0.2', save_path=cfg_dict['expt_path'], yax='log', chan='amps')\n",
    "#handy.plot_many(qq, title='Qubit Power Phase 0.6-0.2', save_path=cfg_dict['expt_path'], yax='log', chan='phases')"
   ]
  },
  {
   "cell_type": "markdown",
   "metadata": {},
   "source": [
    "### Multiple wide scans looking for qubit"
   ]
  },
  {
   "cell_type": "code",
   "execution_count": null,
   "metadata": {},
   "outputs": [],
   "source": [
    "qubit_list = np.arange(3)\n",
    "qubit_list=[1]\n",
    "\n",
    "span = 250\n",
    "start_all = [2000, 3100, 3400]\n",
    "end_all = [4780, 3700, 4250]\n",
    "sensitivities = [0.8, 0.4, 0.2]\n",
    "\n",
    "d = []\n",
    "for qi in tqdm(qubit_list, desc='Qubit Number'):\n",
    "    starts = np.arange(start_all[qi], end_all[qi], span)\n",
    "    qresults = []\n",
    "    for start in tqdm(starts, desc=f'Start Frequency Sweep'):\n",
    "        q_res = meas.QubitSpecPower(\n",
    "            cfg_dict, \n",
    "            qi=qi, \n",
    "            style='coarse', \n",
    "            params={\n",
    "                'max_gain':0.8,\n",
    "                'start':start,\n",
    "                'span':span,\n",
    "                'rng':100,\n",
    "                'reps':800}\n",
    "        )#,'start':3000,'span':300'})\n",
    "        qresults.append(q_res)\n",
    "    \n",
    "    # Handy plot\n",
    "    handy.plot_many_limited(\n",
    "        qresults, \n",
    "        title=f'Qubit Power for qubit {qi}', \n",
    "        save_path=cfg_dict['expt_path'],\n",
    "        yax='log', \n",
    "        chan='amps', \n",
    "        individial_fig_size= (6,6), \n",
    "        xlabel='Frequency (MHz)',\n",
    "        sensitivity =  sensitivities[qi],\n",
    "        save = False,\n",
    "    )\n",
    "    d.append(q_res)\n",
    "    plt.show()"
   ]
  },
  {
   "cell_type": "markdown",
   "metadata": {},
   "source": [
    "# Coherent scans"
   ]
  },
  {
   "cell_type": "markdown",
   "metadata": {},
   "source": [
    "## Fast tuneup\n",
    "\n",
    "Options are: \n",
    "\n",
    "first_time: assume we don't know t1 time,don't have single shot working\n",
    "\n",
    "single: do single shot readout optimization \n",
    "\n",
    "readout: set readout frequency based on resonator fit"
   ]
  },
  {
   "cell_type": "code",
   "execution_count": null,
   "metadata": {},
   "outputs": [],
   "source": [
    "qubit_list = np.arange(3)\n",
    "qubit_list=[0,1,2]\n",
    "\n",
    "#qubit_list=np.delete(qubit_list, [5,13])\n",
    "# Worst issue with this right now is when the qubit frequency is not correct and readout is bad; gets stuck doing ramsey/spectroscopy forever. In this case, cancel it and go back to find qubits, try changing readout gain. \n",
    "plt.rcParams.update({'font.size': 11})\n",
    "for qi in qubit_list: \n",
    "    qubit_tuning.tune_up_qubit(qi, cfg_dict, first_time=False, single=False, readout=True)"
   ]
  },
  {
   "cell_type": "markdown",
   "metadata": {},
   "source": [
    "## Time tracking\n",
    "fast = True only measures T2r and T1, otherwise does full set of scans."
   ]
  },
  {
   "cell_type": "code",
   "execution_count": null,
   "metadata": {},
   "outputs": [],
   "source": [
    "scan_length = 24 #  hours \n",
    "\n",
    "qubit_list = [0,1,2]\n",
    "tt=time_tracking(qubit_list, cfg_dict,display=False,total_time=scan_length, fast=True)"
   ]
  },
  {
   "cell_type": "markdown",
   "metadata": {},
   "source": [
    "## Rabi"
   ]
  },
  {
   "cell_type": "markdown",
   "metadata": {},
   "source": [
    "### Amplitude\n",
    "\n",
    "Uses gain/sigma set in pulses part of config"
   ]
  },
  {
   "cell_type": "code",
   "execution_count": null,
   "metadata": {},
   "outputs": [],
   "source": [
    "qubit_list = np.arange(3)\n",
    "qubit_list=[0]\n",
    "\n",
    "update=True\n",
    "\n",
    "for qi in qubit_list: \n",
    "    #amp_rabi = meas.RabiExperiment(cfg_dict,qi=qi)\n",
    "    \n",
    "    # Fully customized version\n",
    "    amp_rabi = meas.RabiExperiment(cfg_dict,qi=qi, params={'reps':20000})\n",
    "\n",
    "    if update and amp_rabi.status:\n",
    "        config.update_qubit(cfg_path, ('pulses','pi_ge','gain'), amp_rabi.data['pi_length'], qi)\n",
    "        "
   ]
  },
  {
   "cell_type": "markdown",
   "metadata": {},
   "source": [
    "#### Amp Chevron"
   ]
  },
  {
   "cell_type": "code",
   "execution_count": null,
   "metadata": {},
   "outputs": [],
   "source": [
    "d2=[]\n",
    "qubit_list = np.arange(3)\n",
    "qubit_list=[0]\n",
    "for qi in qubit_list: \n",
    "    #amp_rabi_chevron = meas.RabiChevronExperiment(cfg_dict,qi=qi, params={'span_f':200,'sigma':0.25,'expts_f':100,'expts':100})\n",
    "\n",
    "    amp_rabi_chevron = meas.RabiChevronExperiment(cfg_dict,qi=qi, params={'span_f':10, 'expts_f':20})\n",
    "    d2.append(amp_rabi_chevron)\n",
    "\n",
    "#handy.plot_many(d2, title='Rabi Chevron Phase', save_path=cfg_dict['expt_path'], chan='phases')"
   ]
  },
  {
   "cell_type": "code",
   "execution_count": null,
   "metadata": {},
   "outputs": [],
   "source": [
    "handy.plot_many(d2, title='Rabi Chevron 7864', save_path=cfg_dict['expt_path'])"
   ]
  },
  {
   "cell_type": "code",
   "execution_count": null,
   "metadata": {},
   "outputs": [],
   "source": [
    "amp_rabi_chevron.display(plot_both=True)"
   ]
  },
  {
   "cell_type": "markdown",
   "metadata": {},
   "source": [
    "#### 2 Qubit Rabi"
   ]
  },
  {
   "cell_type": "code",
   "execution_count": null,
   "metadata": {},
   "outputs": [],
   "source": [
    "qi=[0,10]\n",
    "amp_rabi = meas.Rabi_2Q(cfg_dict,qi=qi, params={'active_reset':False})"
   ]
  },
  {
   "cell_type": "markdown",
   "metadata": {},
   "source": [
    "### Length -- Uses const pulses so do not use to set up pi pulses\n",
    "\n",
    "Cannot do fast sweep with gaussian pulses due to multiplying qickparams issues; so need the \"loop:True\" for those, will make everything slower. "
   ]
  },
  {
   "cell_type": "code",
   "execution_count": null,
   "metadata": {},
   "outputs": [],
   "source": [
    "qubit_list = [2]\n",
    "for qi in qubit_list: \n",
    "    # Needs to have params of sweep: length and type: cons\n",
    "    #len_rabi = meas.RabiExperiment(cfg_dict,qi=qi, params={'sweep':'length', 'pulse_type':'gauss','loop':True})\n",
    "    len_rabi = meas.RabiExperiment(cfg_dict,qi=qi, params={'sweep':'length', 'pulse_type':'const'})"
   ]
  },
  {
   "cell_type": "markdown",
   "metadata": {},
   "source": [
    "#### Length Chevron"
   ]
  },
  {
   "cell_type": "code",
   "execution_count": null,
   "metadata": {},
   "outputs": [],
   "source": [
    "qubit_list = np.arange(3)\n",
    "qubit_list=[2]\n",
    "for qi in qubit_list: \n",
    "    len_rabi = meas.RabiChevronExperiment(cfg_dict,qi=qi, params={'sweep':'length',\"type\":\"const\", 'sigma':0.605, 'span_f':20})\n",
    "    #len_rabi = meas.RabiChevronExperiment(cfg_dict,qi=qi, params={'sweep':'length',\"type\":\"const\", 'sigma':0.205, 'expts_f':60, 'span_f':150, 'gain':0.4,'start_f':6280,'rounds':4})"
   ]
  },
  {
   "cell_type": "markdown",
   "metadata": {},
   "source": [
    "## Ramsey"
   ]
  },
  {
   "cell_type": "code",
   "execution_count": null,
   "metadata": {},
   "outputs": [],
   "source": [
    "qubit_list=[2]\n",
    "update = True\n",
    "\n",
    "for qi in qubit_list:\n",
    "    t2r = meas.T2Experiment(cfg_dict, qi=qi, max_err=10)\n",
    "\n",
    "    # Manually configured\n",
    "    #t2r = meas.T2Experiment(cfg_dict, qi=qi, max_err=10, params = {'ramsey_freq':1,'expts':100, 'span':10,'start':0.01})\n",
    "    if t2r.status and update:\n",
    "        config.update_qubit(cfg_path, 'f_ge', t2r.data['new_freq'], qi)\n",
    "        auto_cfg = config.update_qubit(cfg_path, 'T2r', t2r.data['best_fit'][3], qi, rng_vals=[1.5, max_t1], sig=2)\n",
    "    else:\n",
    "        print('T2 Ramsey fit failed')"
   ]
  },
  {
   "cell_type": "markdown",
   "metadata": {},
   "source": [
    "### Use Ramsey to recenter"
   ]
  },
  {
   "cell_type": "code",
   "execution_count": null,
   "metadata": {},
   "outputs": [],
   "source": [
    "qubit_list = [2]\n",
    "for qi in qubit_list:\n",
    "    status = qubit_tuning.recenter(qi,cfg_dict)            "
   ]
  },
  {
   "cell_type": "markdown",
   "metadata": {},
   "source": [
    "### Ramsey coherence"
   ]
  },
  {
   "cell_type": "code",
   "execution_count": null,
   "metadata": {},
   "outputs": [],
   "source": [
    "t1= qubit_tuning.get_coherence(meas.RamseyExperiment, qi, cfg_dict,par='T2r')"
   ]
  },
  {
   "cell_type": "markdown",
   "metadata": {},
   "source": [
    "## T1\n",
    "\n",
    "If it's the first time, also set T2r and T2e as guesses \n"
   ]
  },
  {
   "cell_type": "code",
   "execution_count": null,
   "metadata": {},
   "outputs": [],
   "source": [
    "update=True\n",
    "first_time=False\n",
    "\n",
    "qubit_list = np.arange(3)\n",
    "qubit_list=[1]\n",
    "for qi in qubit_list:\n",
    "    #t1 = meas.T1Experiment(cfg_dict, qi=qi)\n",
    "    t1 = meas.T1Experiment(cfg_dict, qi=qi, params={'reps':100000,'span':0, 'start':20})\n",
    "\n",
    "    if update: t1.update(cfg_path, first_time=first_time)"
   ]
  },
  {
   "cell_type": "markdown",
   "metadata": {},
   "source": [
    "### T1 coherence\n",
    "\n",
    "Runs scan until scan is properly configured to be sensitive to T1"
   ]
  },
  {
   "cell_type": "code",
   "execution_count": null,
   "metadata": {},
   "outputs": [],
   "source": [
    "qi=0\n",
    "qubit_tuning.get_coherence(meas.T1Experiment,qi=qi,cfg_dict=cfg_dict,par='T1')"
   ]
  },
  {
   "cell_type": "markdown",
   "metadata": {},
   "source": [
    "### Continuous scan at single point\n",
    "Times do not seem to be accurate right now "
   ]
  },
  {
   "cell_type": "code",
   "execution_count": null,
   "metadata": {},
   "outputs": [],
   "source": [
    "qi=0\n",
    "t1cont = meas.T1ContExperiment(cfg_dict,qi=qi, params={'shots':200000})"
   ]
  },
  {
   "cell_type": "markdown",
   "metadata": {},
   "source": [
    "### T1 continuous 2Q"
   ]
  },
  {
   "cell_type": "code",
   "execution_count": null,
   "metadata": {},
   "outputs": [],
   "source": [
    "qi = [10,0]\n",
    "meas.T1_2Q(cfg_dict,qi=qi, )"
   ]
  },
  {
   "cell_type": "code",
   "execution_count": null,
   "metadata": {},
   "outputs": [],
   "source": [
    "qi=[0,10]\n",
    "scan_time = 0.1 #hours\n",
    "number_of_scans = 1\n",
    "shots = int(100000*scan_time*60/4)\n",
    "print(shots)\n",
    "for i in range(number_of_scans):\n",
    "    meas.T1Cont2QExperiment(cfg_dict,qi=qi, params={'shots':shots, 'active_reset':False})"
   ]
  },
  {
   "cell_type": "markdown",
   "metadata": {},
   "source": [
    "## Echo and more"
   ]
  },
  {
   "cell_type": "code",
   "execution_count": null,
   "metadata": {},
   "outputs": [],
   "source": [
    "qubit_list = np.arange(3)\n",
    "qubit_list=[0]\n",
    "update=True\n",
    "for qi in qubit_list:\n",
    "    # Need to have experiment type set to echo\n",
    "    t2e = meas.T2Experiment(cfg_dict, qi=qi, params={'experiment_type':'echo'})\n",
    "    if t2e.status and update:\n",
    "        auto_cfg = config.update_qubit(cfg_path, 'T2e', t2e.data['best_fit'][3], qi,sig=2, rng_vals=[1.5, max_t1*2])"
   ]
  },
  {
   "cell_type": "markdown",
   "metadata": {},
   "source": [
    "### More pi / CPMG\n",
    "Breaks above 12 right now; need to make it a python loop "
   ]
  },
  {
   "cell_type": "code",
   "execution_count": null,
   "metadata": {},
   "outputs": [],
   "source": [
    "qubit_list = np.arange(3)\n",
    "qubit_list=[1]\n",
    "update=True\n",
    "nums_pi = [10]\n",
    "for qi in qubit_list:\n",
    "    for pi in nums_pi:\n",
    "        # Need to have experiment type set to echo\n",
    "        t2e = meas.T2Experiment(cfg_dict, qi=qi, params={'experiment_type':'cpmg','num_pi':pi,'span':100})\n"
   ]
  },
  {
   "cell_type": "markdown",
   "metadata": {},
   "source": [
    "### Get echo coherence"
   ]
  },
  {
   "cell_type": "code",
   "execution_count": null,
   "metadata": {},
   "outputs": [],
   "source": [
    "qi=6\n",
    "t2e = qubit_tuning.get_coherence(meas.RamseyEchoExperiment, qi, cfg_dict,'T2e')"
   ]
  },
  {
   "cell_type": "markdown",
   "metadata": {},
   "source": [
    "## Feedback checks"
   ]
  },
  {
   "cell_type": "code",
   "execution_count": null,
   "metadata": {},
   "outputs": [],
   "source": [
    "qi=10\n",
    "reset = meas.MemoryExperiment(cfg_dict, qi=qi, params={'shots':1, 'expts':200})"
   ]
  },
  {
   "cell_type": "code",
   "execution_count": null,
   "metadata": {},
   "outputs": [],
   "source": [
    "# Don't do the active reset, just do the repeated measurement \n",
    "qi=1\n",
    "shot = meas.RepMeasExperiment(cfg_dict, qi=qi, params={'shots':30000,'active_reset':True, 'setup_reset':True})\n",
    "shot.check_reset()"
   ]
  },
  {
   "cell_type": "markdown",
   "metadata": {},
   "source": [
    "# Single Shot"
   ]
  },
  {
   "cell_type": "code",
   "execution_count": null,
   "metadata": {},
   "outputs": [],
   "source": [
    "# Single shot \n",
    "qubit_list = np.arange(3)\n",
    "qubit_list =[0]\n",
    "\n",
    "for qi in qubit_list:\n",
    "    shot=meas.HistogramExperiment(cfg_dict, qi=qi)\n",
    "\n",
    "    # Configure number of shots\n",
    "    #shot=meas.HistogramExperiment(cfg_dict, qi=qi, params={'shots':300000})\n",
    "    shot.update(cfg_path)"
   ]
  },
  {
   "cell_type": "markdown",
   "metadata": {},
   "source": [
    "### Adjust reps for fidelity "
   ]
  },
  {
   "cell_type": "code",
   "execution_count": null,
   "metadata": {},
   "outputs": [],
   "source": [
    "max_inc = 15 # dont' let it do more than 15x standard number of reps so that things don't take forever\n",
    "qubit_list = [0]\n",
    "\n",
    "auto_cfg = config.load(cfg_path)\n",
    "for qi in qubit_list:\n",
    "    config.update_readout(cfg_path, 'reps', 1/auto_cfg['device']['readout']['fidelity'][qi]**1.5, qi, rng_vals=[1,max_inc]);"
   ]
  },
  {
   "cell_type": "markdown",
   "metadata": {},
   "source": [
    "## Readout opt"
   ]
  },
  {
   "cell_type": "markdown",
   "metadata": {},
   "source": [
    "### General sweep\n",
    "\n",
    "Runs single shot experiments for many readout lengths, frequencies, gains and compares fidelity\n",
    "\n",
    "low_gain=True chooses lowest gain/readout length within a few percent of maximum gain (often readout fidelity fairly flat as a function of gain at higher gain values) \n",
    "\n",
    "style='fine' varies parameters by 20%, style='' varies by 2x"
   ]
  },
  {
   "cell_type": "code",
   "execution_count": null,
   "metadata": {},
   "outputs": [],
   "source": [
    "update=True\n",
    "low_gain=True\n",
    "\n",
    "qubit_list=np.arange(3)\n",
    "qubit_list=[0]\n",
    "\n",
    "params = {'expts_f':1, 'expts_gain':5, 'expts_len':5,'shots':50000}\n",
    "#params = {'expts_f':10, 'expts_gain':1, 'expts_len':1}\n",
    "\n",
    "# Specify exact ranges to use  \n",
    "#params = {'expts_f':1, 'expts_gain':9, 'expts_len':9,'start_gain':0.45, 'span_gain':0.05,'start_len':2, 'span_len':5}\n",
    "\n",
    "for qi in qubit_list: \n",
    "    shotopt=meas.SingleShotOptExperiment(cfg_dict, qi=qi,params=params)#, style='fine')\n",
    "    shotopt.analyze(low_gain=low_gain)\n",
    "    if update: shotopt.update(cfg_dict['cfg_file'])"
   ]
  },
  {
   "cell_type": "markdown",
   "metadata": {},
   "source": [
    "### Run optimization until it converges"
   ]
  },
  {
   "cell_type": "code",
   "execution_count": null,
   "metadata": {},
   "outputs": [],
   "source": [
    "qubit_list=np.arange(3)\n",
    "qubit_list=[19]\n",
    "params = {'expts_f':1, 'expts_gain':7, 'expts_len':7}\n",
    "\n",
    "# do_res also runs res spec and resets readout frequency that way each round. \n",
    "qubit_tuning.meas_opt(cfg_dict, qubit_list, params, do_res=True)"
   ]
  },
  {
   "cell_type": "markdown",
   "metadata": {},
   "source": [
    "### Vary trig_offset to see if it changes fidelity. "
   ]
  },
  {
   "cell_type": "code",
   "execution_count": null,
   "metadata": {},
   "outputs": [],
   "source": [
    "# Single shot \n",
    "qubit_list = np.arange(3)\n",
    "qubit_list =[11]\n",
    "trig_list = np.linspace(0.2,1,12)\n",
    "fids =[]\n",
    "for qi in qubit_list:\n",
    "    for trig in trig_list: \n",
    "        config.update_readout(cfg_path, 'trig_offset', trig, qi);\n",
    "        shot=meas.HistogramExperiment(cfg_dict, qi=qi, params={'shots':20000, 'trigger':trig})\n",
    "        fids.append(shot.data['fids'][0])\n",
    "    "
   ]
  },
  {
   "cell_type": "markdown",
   "metadata": {},
   "source": [
    "### Play with LO freq (when using qick for LO)"
   ]
  },
  {
   "cell_type": "code",
   "execution_count": null,
   "metadata": {},
   "outputs": [],
   "source": [
    "auto_cfg = config.load(cfg_path)\n",
    "start_freq = auto_cfg.device.readout.frequency[qi]\n",
    "start_mixer = auto_cfg.hw.soc.lo.mixer_freq[qi]\n",
    "rng = np.linspace(-1000,1000,11)\n",
    "fids=[]\n",
    "for qi in qubit_list: \n",
    "    for r in rng: \n",
    "        config.update_lo(cfg_path, 'mixer_freq', start_mixer+r, qi)\n",
    "        config.update_readout(cfg_path, 'frequency', start_freq-r, qi)\n",
    "        shot=meas.HistogramExperiment(cfg_dict, qi=qi, params={'shots':20000})\n",
    "        fids.append(shot.data['fids'][0])\n",
    "\n",
    "config.update_lo(cfg_path, 'mixer_freq', start_mixer, qi)\n",
    "config.update_readout(cfg_path, 'frequency', start_freq, qi)"
   ]
  },
  {
   "cell_type": "markdown",
   "metadata": {},
   "source": [
    "#### Play with LO power"
   ]
  },
  {
   "cell_type": "code",
   "execution_count": null,
   "metadata": {},
   "outputs": [],
   "source": [
    "qi = 0\n",
    "gain_vals = [0.0375,0.05] \n",
    "fids = []\n",
    "for gain in gain_vals:\n",
    "    config.update_lo(cfg_path, 'gain', gain, qi)\n",
    "    shotopt=meas.SingleShotOptExperiment(cfg_dict, qi=qi,params={'npts_f':5, 'npts_gain':5, 'npts_len':5})\n",
    "    fids.append(shot.data['fids'][0])"
   ]
  },
  {
   "cell_type": "markdown",
   "metadata": {},
   "source": [
    "## Active reset"
   ]
  },
  {
   "cell_type": "markdown",
   "metadata": {},
   "source": [
    "### Check active reset at standard threshold\n",
    "\n",
    "Setup reset uses the calibrated angle and runs active reset process at end, but also uses usual final_delay so that it's ok if reset not working"
   ]
  },
  {
   "cell_type": "code",
   "execution_count": null,
   "metadata": {},
   "outputs": [],
   "source": [
    "qubit_list = np.arange(3)\n",
    "qubit_list=[0,1,2]\n",
    "d=[]\n",
    "for qi in qubit_list:\n",
    "    shot = meas.HistogramExperiment(cfg_dict, qi=qi, params={'shots':30000,'active_reset':True, 'setup_reset':True})\n",
    "    shot.check_reset()\n",
    "    #config.update_readout(cfg_path, 'reset_e', shot.data['reset_e'], qi)\n",
    "    #config.update_readout(cfg_path, 'reset_g', shot.data['reset_g'], qi)\n",
    "    d.append(shot)"
   ]
  },
  {
   "cell_type": "markdown",
   "metadata": {},
   "source": [
    "### Sweep threshold"
   ]
  },
  {
   "cell_type": "code",
   "execution_count": null,
   "metadata": {},
   "outputs": [],
   "source": [
    "d = []\n",
    "qi=10\n",
    "auto_cfg = config.load(cfg_path)\n",
    "threshold = auto_cfg['device']['readout']['threshold'][qi]\n",
    "thresh = np.linspace(threshold-25,threshold+25,16)\n",
    "#thresh = np.linspace(threshold-10,threshold+10,6)\n",
    "for t in thresh:\n",
    "    shot=meas.HistogramExperiment(cfg_dict, qi=qi, params={'shots':100000,'threshold_v':t, 'active_reset':True,'setup_reset':True}, display=False, progress=False)\n",
    "    d.append(shot)\n",
    "    #shot.check_reset()\n",
    "measure_func.plot_reset(d)"
   ]
  },
  {
   "cell_type": "markdown",
   "metadata": {},
   "source": [
    "### Turn off active reset for all config chans"
   ]
  },
  {
   "cell_type": "code",
   "execution_count": null,
   "metadata": {},
   "outputs": [],
   "source": [
    "for qi in range(20):\n",
    "    config.update_readout(cfg_path, 'active_reset',False, qi)"
   ]
  },
  {
   "cell_type": "markdown",
   "metadata": {},
   "source": [
    "### Turn on active reset for channels where it seems to be working"
   ]
  },
  {
   "cell_type": "code",
   "execution_count": null,
   "metadata": {},
   "outputs": [],
   "source": [
    "e_success = 0.15 # Ratio of e proportion after active reset compared to before\n",
    "g_vs_e = 2 # Ratio of g proportion to e proportion after active reset\n",
    "\n",
    "auto_cfg = config.load(cfg_path)\n",
    "reset_e = auto_cfg['device']['readout']['reset_e']\n",
    "reset_g = auto_cfg['device']['readout']['reset_g']\n",
    "result = np.array(reset_e)< e_success | np.array(reset_g)/np.array(reset_e)<g_vs_e\n",
    "for qi in range(20):\n",
    "    config.update_readout(cfg_path, 'active_reset',bool(result[qi]), qi)"
   ]
  },
  {
   "cell_type": "markdown",
   "metadata": {},
   "source": [
    "### Check reset (plotting result of reset)"
   ]
  },
  {
   "cell_type": "code",
   "execution_count": null,
   "metadata": {},
   "outputs": [],
   "source": [
    "qubit_list = np.arange(3)\n",
    "qubit_list =[17]\n",
    "for qi in qubit_list:\n",
    "    shot = meas.HistogramExperiment(cfg_dict, qi=qi, params={'shots':50000,'active_reset':True})\n",
    "    shot.check_reset()"
   ]
  },
  {
   "cell_type": "markdown",
   "metadata": {},
   "source": [
    "# Chi"
   ]
  },
  {
   "cell_type": "code",
   "execution_count": null,
   "metadata": {},
   "outputs": [],
   "source": [
    "# Need a tuned up pi pulse for this\n",
    "\n",
    "qubit_list = [1]\n",
    "for qi in qubit_list: \n",
    "    chi, chi_val=measure_func.check_chi(cfg_dict, qi)\n",
    "    auto_cfg = config.update_readout(cfg_path, 'chi', chi_val, qi)"
   ]
  },
  {
   "cell_type": "markdown",
   "metadata": {},
   "source": [
    "# 2 Qubit"
   ]
  },
  {
   "cell_type": "code",
   "execution_count": null,
   "metadata": {},
   "outputs": [],
   "source": [
    "t12q = meas.T1_2Q(cfg_dict, qi=[10,0], params={'active_reset':False, })"
   ]
  },
  {
   "cell_type": "code",
   "execution_count": null,
   "metadata": {},
   "outputs": [],
   "source": [
    "rabi2q = meas.Rabi_2Q(cfg_dict, qi=[10,0], params={'active_reset':True})"
   ]
  },
  {
   "cell_type": "markdown",
   "metadata": {},
   "source": [
    "# EF "
   ]
  },
  {
   "cell_type": "markdown",
   "metadata": {},
   "source": [
    "### Initial setting of frequencies based on guess for alpha"
   ]
  },
  {
   "cell_type": "code",
   "execution_count": null,
   "metadata": {},
   "outputs": [],
   "source": [
    "# Initial set of the frequencyies based on guess for alpha \n",
    "alpha = -150\n",
    "#qubit_list = np.arange(3)\n",
    "qubit_list = [1,2]\n",
    "auto_cfg = config.load(cfg_path)\n",
    "for i in qubit_list: \n",
    "    f_ge = auto_cfg['device']['qubit']['f_ge'][i]\n",
    "    auto_cfg = config.update_qubit(cfg_path, 'f_ef', f_ge+alpha, i)"
   ]
  },
  {
   "cell_type": "markdown",
   "metadata": {},
   "source": [
    "## Spectroscopy EF"
   ]
  },
  {
   "cell_type": "markdown",
   "metadata": {},
   "source": [
    "### General search"
   ]
  },
  {
   "cell_type": "code",
   "execution_count": null,
   "metadata": {},
   "outputs": [],
   "source": [
    "qubit_list= np.arange(3)\n",
    "bad_qubits=[]\n",
    "qubit_list=[0,1,2]\n",
    "for qi in qubit_list:\n",
    "    status, ntries = qubit_tuning.find_spec(qi, cfg_dict, start='medium', freq='ef')\n",
    "    if not status:\n",
    "        bad_qubits.append(qi)"
   ]
  },
  {
   "cell_type": "markdown",
   "metadata": {},
   "source": [
    "### Specific width"
   ]
  },
  {
   "cell_type": "code",
   "execution_count": null,
   "metadata": {},
   "outputs": [],
   "source": [
    "# You may want to update this frequency, which will be the center of the scan. \n",
    "#style huge, coarse, medium, fine \n",
    "update=True\n",
    "\n",
    "qubit_list = np.arange(3)\n",
    "qubit_list=[2]\n",
    "for qi in qubit_list:\n",
    "    qspec=meas.QubitSpec(cfg_dict, qi=qi, style='coarse', params={'checkEF':True, 'gain':1,'reps':2000})#, params={'span':500, 'expts':1000,'reps':500,'gain':0.2})\n",
    "\n",
    "    #qspec=meas.QubitSpec(cfg_dict, qi=qi, style='medium', params={'checkEF':True})#, params={'span':500, 'expts':1000,'reps':500,'gain':0.2})\n",
    "    if update and qspec.status:\n",
    "        auto_cfg = config.update_qubit(cfg_path, 'f_ef', qspec.data[\"best_fit\"][2], qi)"
   ]
  },
  {
   "cell_type": "markdown",
   "metadata": {},
   "source": [
    "## Rabi EF"
   ]
  },
  {
   "cell_type": "code",
   "execution_count": null,
   "metadata": {},
   "outputs": [],
   "source": [
    "# If first time, initialize the sigma and gain to those of the ge \n",
    "first_time =False\n",
    "update = True\n",
    "\n",
    "qubit_list = np.arange(3)\n",
    "qubit_list=[0,1,2]\n",
    "\n",
    "bad_qubits = []\n",
    "auto_cfg = config.load(cfg_path)\n",
    "\n",
    "for qi in qubit_list: \n",
    "    if first_time:\n",
    "        #config.update_qubit(cfg_path, 'f_ef', auto_cfg.device.qubit.f_spec_ef[qi], qi)\n",
    "        auto_cfg = config.update_qubit(cfg_path, ('pulses','pi_ef','sigma'), auto_cfg['device']['qubit']['pulses']['pi_ge']['sigma'][qi], qi)\n",
    "        auto_cfg = config.update_qubit(cfg_path, ('pulses','pi_ef','gain'), auto_cfg['device']['qubit']['pulses']['pi_ge']['gain'][qi], qi)\n",
    "    amp_rabi = meas.RabiExperiment(cfg_dict,qi=qi, params={'checkEF':True})\n",
    "    if update and amp_rabi.status:\n",
    "        config.update_qubit(cfg_path, ('pulses','pi_ef','gain'), amp_rabi.data['pi_length'], qi)\n",
    "    else:\n",
    "        print(f'Amplitude Rabi fit failed for qubit {qi}')\n",
    "        bad_qubits.append(qi)"
   ]
  },
  {
   "cell_type": "markdown",
   "metadata": {},
   "source": [
    "## Qubit Temperature"
   ]
  },
  {
   "cell_type": "code",
   "execution_count": null,
   "metadata": {},
   "outputs": [],
   "source": [
    "qubit_list = np.arange(3)\n",
    "qubit_list=[0,1,2]\n",
    "# Setting number of rounds multiplies the default number of rounds by that number, so can be greater than or less than 1. \n",
    "\n",
    "for qi in qubit_list: \n",
    "    # rounds will make scan take longer, needed for lower temperatures. \n",
    "    temp, pop = measure_func.measure_temp(cfg_dict, qi=qi)# , rounds=5)\n",
    "    auto_cfg = config.update_qubit(cfg_path, 'temp', temp, qi)\n",
    "    auto_cfg = config.update_qubit(cfg_path, 'pop', pop, qi)"
   ]
  },
  {
   "cell_type": "markdown",
   "metadata": {},
   "source": [
    "## Calculate Ec and Ej"
   ]
  },
  {
   "cell_type": "code",
   "execution_count": null,
   "metadata": {},
   "outputs": [],
   "source": [
    "auto_cfg = config.load(cfg_path)\n",
    "import scqubits as scq\n",
    "for i in np.arange(3):\n",
    "    alpha =  auto_cfg.device.qubit.f_ef[i] - auto_cfg.device.qubit.f_ge[i]\n",
    "    en = scq.Transmon.find_EJ_EC(auto_cfg.device.qubit.f_ge[i]/1000,alpha/1000)\n",
    "    print(alpha)\n",
    "    print(en)\n",
    "    q = np.pi*2 * auto_cfg.device.qubit.f_ge[i] * auto_cfg.device.qubit.T1[i]\n",
    "    print(q)"
   ]
  },
  {
   "cell_type": "markdown",
   "metadata": {},
   "source": [
    "## Ramsey EF"
   ]
  },
  {
   "cell_type": "code",
   "execution_count": null,
   "metadata": {},
   "outputs": [],
   "source": [
    "update=True\n",
    "qubit_list=np.arange(3)\n",
    "#qubit_list=[12]\n",
    "\n",
    "for qi in qubit_list:\n",
    "    t2r = meas.T2Experiment(cfg_dict, qi=qi, params={'ramsey_freq':0.15, 'checkEF':True})\n",
    "\n",
    "    if update and t2r.status:\n",
    "        config.update_qubit(cfg_path, 'f_ef', t2r.data['new_freq'], qi)\n",
    "    else:\n",
    "        print('T2 Ramsey fit failed')"
   ]
  },
  {
   "cell_type": "markdown",
   "metadata": {},
   "source": [
    "# Stark"
   ]
  },
  {
   "cell_type": "markdown",
   "metadata": {},
   "source": [
    "## Ramsey"
   ]
  },
  {
   "cell_type": "markdown",
   "metadata": {},
   "source": [
    "### Single experiment"
   ]
  },
  {
   "cell_type": "code",
   "execution_count": null,
   "metadata": {},
   "outputs": [],
   "source": [
    "qi=0\n",
    "meas.RamseyStarkExperiment(cfg_dict, qi=qi, params={'stark_gain':0.0,'step':0.1,'df':200,'acStark':True,'ramsey_freq':0.1})"
   ]
  },
  {
   "cell_type": "markdown",
   "metadata": {},
   "source": [
    "### Sweep frequency"
   ]
  },
  {
   "cell_type": "code",
   "execution_count": null,
   "metadata": {},
   "outputs": [],
   "source": [
    "qubit_list = np.arange(3)\n",
    "qubit_list=[3]\n",
    "\n",
    "gain = np.linspace(0.1,1,10)\n",
    "for qi in qubit_list:\n",
    "    for g in gain:\n",
    "        t2rstark=meas.RamseyStarkFreqExperiment(cfg_dict, qi=qi, params={'step':1/430+0.001, 'stark_gain':g, 'start_df':30, 'end_df':150, 'expts_df':10})"
   ]
  },
  {
   "cell_type": "markdown",
   "metadata": {},
   "source": [
    "### Calibrate stark power positive freq"
   ]
  },
  {
   "cell_type": "code",
   "execution_count": null,
   "metadata": {},
   "outputs": [],
   "source": [
    "qubit_list = np.arange(3)\n",
    "qubit_list=[19]\n",
    "d=[]\n",
    "freqs= [200]\n",
    "for f in freqs:\n",
    "    for qi in qubit_list:\n",
    "        t2rstark=meas.RamseyStarkPowerExperiment(cfg_dict, qi=qi, params={'step':1/430+0.001, 'expts_gain':12, 'df':f, 'start_gain':0.1, 'end_gain':1})\n",
    "        d.append(t2rstark)\n",
    "        config.update_stark(cfg_path, 'q', t2rstark.data['quad_fit'][0], qi)\n",
    "        config.update_stark(cfg_path, 'l', t2rstark.data['quad_fit'][1], qi)\n",
    "        config.update_stark(cfg_path, 'o', t2rstark.data['quad_fit'][2], qi)"
   ]
  },
  {
   "cell_type": "code",
   "execution_count": null,
   "metadata": {},
   "outputs": [],
   "source": [
    "plt.figure()\n",
    "for i in range(len(t2rstark.data['bin_centers'])):\n",
    "    plt.plot(t2rstark.data['bin_centers'][i], t2rstark.data['hist'][i])"
   ]
  },
  {
   "cell_type": "markdown",
   "metadata": {},
   "source": [
    "### Negative frequency"
   ]
  },
  {
   "cell_type": "code",
   "execution_count": null,
   "metadata": {},
   "outputs": [],
   "source": [
    "#qubit_list = np.arange(3)\n",
    "d=[]\n",
    "qubit_list=[19]\n",
    "for qi in qubit_list:\n",
    "    t2rstark=meas.RamseyStarkPowerExperiment(cfg_dict, qi=qi, params={'step':1/430+0.001, 'expts_gain':12, 'df':-100, 'start_gain':0.08, 'end_gain':0.35, 'rounds':2})\n",
    "    d.append(t2rstark)\n",
    "    config.update_stark(cfg_path, 'qneg', t2rstark.data['quad_fit'][0], qi)\n",
    "    config.update_stark(cfg_path, 'lneg', t2rstark.data['quad_fit'][1], qi)\n",
    "    config.update_stark(cfg_path, 'oneg', t2rstark.data['quad_fit'][2], qi)\n",
    "#handy.plot_many(d, title='Ramsey Stark', save_path=cfg_dict['expt_path'])"
   ]
  },
  {
   "cell_type": "markdown",
   "metadata": {},
   "source": [
    "## T1"
   ]
  },
  {
   "cell_type": "markdown",
   "metadata": {},
   "source": [
    "### Single exp"
   ]
  },
  {
   "cell_type": "code",
   "execution_count": null,
   "metadata": {},
   "outputs": [],
   "source": [
    "qi=0\n",
    "gain_list = [1]\n",
    "for g in gain_list:\n",
    "    t1 = meas.T1StarkExperiment(cfg_dict, qi=qi, params={'active_reset':False, 'df':200, 'stark_gain':g,'expts':300,'start':10,'span':0,'reps':100000}) "
   ]
  },
  {
   "cell_type": "markdown",
   "metadata": {},
   "source": [
    "### Gain sweep"
   ]
  },
  {
   "cell_type": "code",
   "execution_count": null,
   "metadata": {},
   "outputs": [],
   "source": [
    "qubit_list = np.arange(3)\n",
    "qubit_list=[0]\n",
    "flist=[210,180]\n",
    "for f in flist:\n",
    "    for qi in qubit_list: \n",
    "        #t1_neg = meas.T1StarkPowerExperiment(cfg_dict, qi=qi, params={'df':-70,'start_gain':0.02,'end_gain':0.2,'start':3, 'rounds':4})\n",
    "\n",
    "        t1_pos = meas.T1StarkPowerExperiment(cfg_dict, qi=qi, params={'df':f,'start_gain':0.3,'end_gain':1,'start':0.2, 'rounds':1,'span':0.5,'expts_gain':80}) \n",
    "        plt.figure()\n",
    "        for i in range(len(t1_pos.data['bin_centers'])):\n",
    "            plt.plot(t1_pos.data['bin_centers'][i], t1_pos.data['hist'][i])"
   ]
  },
  {
   "cell_type": "markdown",
   "metadata": {},
   "source": [
    "### Freq sweep"
   ]
  },
  {
   "cell_type": "code",
   "execution_count": null,
   "metadata": {},
   "outputs": [],
   "source": [
    "t1_freq = meas.T1StarkFreqExperiment(cfg_dict, qi=19, params={'span':6, 'span_f':100, 'start_df':50, 'expts_f':100})"
   ]
  },
  {
   "cell_type": "markdown",
   "metadata": {},
   "source": [
    "### Single evo point linear gain sweep"
   ]
  },
  {
   "cell_type": "code",
   "execution_count": null,
   "metadata": {},
   "outputs": [],
   "source": [
    "t1_cont = meas.T1StarkPowerSingle(cfg_dict, qi=0, params={\"rounds\":4})"
   ]
  }
 ],
 "metadata": {
  "kernelspec": {
   "display_name": "slab_test",
   "language": "python",
   "name": "python3"
  },
  "language_info": {
   "codemirror_mode": {
    "name": "ipython",
    "version": 3
   },
   "file_extension": ".py",
   "mimetype": "text/x-python",
   "name": "python",
   "nbconvert_exporter": "python",
   "pygments_lexer": "ipython3",
   "version": "3.11.13"
  }
 },
 "nbformat": 4,
 "nbformat_minor": 2
}
